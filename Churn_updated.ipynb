{
  "nbformat": 4,
  "nbformat_minor": 0,
  "metadata": {
    "colab": {
      "name": "Churn_updated.ipynb",
      "provenance": [],
      "collapsed_sections": [],
      "toc_visible": true,
      "mount_file_id": "1-VOTKez07YfprV41Z8wHIrVLNBLZTKaK",
      "authorship_tag": "ABX9TyNdBo3XmA9QeMa0unepA2W4",
      "include_colab_link": true
    },
    "kernelspec": {
      "name": "python3",
      "display_name": "Python 3"
    },
    "language_info": {
      "name": "python"
    }
  },
  "cells": [
    {
      "cell_type": "markdown",
      "metadata": {
        "id": "view-in-github",
        "colab_type": "text"
      },
      "source": [
        "<a href=\"https://colab.research.google.com/github/bezerraluis/BootCamp-Data-Science/blob/main/Churn_updated.ipynb\" target=\"_parent\"><img src=\"https://colab.research.google.com/assets/colab-badge.svg\" alt=\"Open In Colab\"/></a>"
      ]
    },
    {
      "cell_type": "markdown",
      "source": [
        "# Data Set\n",
        "\n",
        "Dataset :[Kaggle](https://www.kaggle.com/shrutimechlearn/churn-modelling)\n",
        "\n",
        "\n",
        "\n",
        "\n",
        "![money_churn.jpg](data:image/jpeg;base64,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)"
      ],
      "metadata": {
        "id": "FpGh7Tvue1fk"
      }
    },
    {
      "cell_type": "markdown",
      "source": [
        "# Hypotheses \n",
        "\n",
        "\n",
        "h1 .Customers with lower scores tend to churn.\n",
        "\n",
        "h2 .The country is decisive for the client to churn\n",
        "\n",
        "h3 .There are more men than women who churn.\n",
        "\n",
        "h4 .Younger customer has a tendency to churn.\n",
        "\n",
        "h5 .Customers with up to 2 years as a customer usually churn.\n",
        "\n",
        "h6 .Customers who do not have a credit card tend to churn."
      ],
      "metadata": {
        "id": "P77bRWI1VSh8"
      }
    },
    {
      "cell_type": "markdown",
      "source": [
        "# Business Problem \n",
        "\n",
        "Decreasing the number of churns is something that the entire company needs to pursue. It is essential for the growth and health of any operation.\n",
        "\n",
        "How to project growth, attract investors if customer retention fails within organizations.\n",
        "\n",
        "When a user churns, and this is repeated with other people, a very large alert signal needs to be turned on.\n",
        "\n",
        "And a question must be answered: what are we doing wrong?\n",
        "\n",
        "Customers talk to each other. Information is accessible to all. Therefore, working to have an ever lower churn, close to zero, is a tireless pursuit.\n",
        "\n",
        "More than that. Understanding the (especially financial) impact of this metric is vital. It is what will maintain financial health and a safer hike for any business."
      ],
      "metadata": {
        "id": "c9tCGqclkQxx"
      }
    },
    {
      "cell_type": "markdown",
      "source": [
        "# Business Need\n",
        "\n",
        "The Bank needs to understand why the churn rate is increasing and which actions\n",
        "\n",
        "are recommended to reduce this number. They ask you to create a predictive\n",
        "\n",
        "model that helps to explain the probability of a client to churn."
      ],
      "metadata": {
        "id": "84rnyAwrkcoT"
      }
    },
    {
      "cell_type": "markdown",
      "source": [
        "# Solution\n",
        "\n",
        "A Model to predict client's churn probability.\n",
        "\n",
        "A list with the 100 churn customers\n",
        "\n",
        "API to set up the parameters and test solution\n",
        "\n"
      ],
      "metadata": {
        "id": "w5W03jPDkiCJ"
      }
    },
    {
      "cell_type": "markdown",
      "source": [
        "# Description\n",
        "\n",
        "RowNumber - Row Numbers from 1 to 10000\n",
        "\n",
        "CustomerId - Unique Ids for bank customer identification  \n",
        "\n",
        "Surname - Customer's last name\n",
        "\n",
        "CreditScore -  Credit score of the customer\n",
        "\n",
        "Geography - The country from which the customer belongs\n",
        "\n",
        "Gender -  Male or Female\n",
        "\n",
        "Age - Age of the customer\n",
        "\n",
        "Tenure - Number of years for which the customer has been with the bank\n",
        "\n",
        "Balance - Bank balance of the customer\n",
        "\n",
        "NumOfProducts - Number of bank products the customer is utilising"
      ],
      "metadata": {
        "id": "d8AxkUgEm_FG"
      }
    },
    {
      "cell_type": "markdown",
      "source": [
        "# Index:\n",
        "\n",
        "1 Business Problem.\n",
        "\n",
        "2 Library Imports\n",
        "\n",
        "3.0 Exploratory Data Analysis\n",
        " \n",
        "4.0 Feature Engeneering\n",
        "\n",
        "5.0 Reescaling\n",
        "\n",
        "6.0 Encoding\n",
        "\n",
        "7.0 Balancing data\n",
        "\n",
        "8.0 Feature Selection\n",
        "\n",
        "9.0 Baseline\n",
        "\n",
        "10.0 Cross Validation\n",
        "\n",
        "11.0 Training balanced data\n",
        "\n",
        "12.0 Hyperparameter fine tuning\n",
        "\n",
        "13.0 Final Model\n",
        "\n",
        "14.0 Business Problem\n",
        "\n",
        "15.0 Next Steps\n"
      ],
      "metadata": {
        "id": "4AiSaLVsnIbJ"
      }
    },
    {
      "cell_type": "markdown",
      "source": [
        "# 1.0 Librarie"
      ],
      "metadata": {
        "id": "yh0NDxh1opO_"
      }
    },
    {
      "cell_type": "code",
      "source": [
        "import pandas as pd\n",
        "import numpy as np\n",
        "import seaborn as sns\n",
        "import matplotlib.pyplot as plt\n",
        "from IPython.core.display import Image, HTML\n",
        "\n",
        "# Desabilitando warnings\n",
        "import warnings\n",
        "warnings.filterwarnings('ignore')"
      ],
      "metadata": {
        "id": "immojuGlnhok"
      },
      "execution_count": null,
      "outputs": []
    },
    {
      "cell_type": "code",
      "source": [
        "\n",
        "def jupyter_settings():\n",
        "    %matplotlib inline\n",
        "    %pylab inline\n",
        "    \n",
        "    plt.style.use( 'bmh' )\n",
        "    plt.rcParams['figure.figsize'] = [25, 12]\n",
        "    plt.rcParams['font.size'] = 24\n",
        "    \n",
        "    display( HTML( '<style>.container { width:95% !important; }</style>') )\n",
        "    pd.options.display.max_columns = None\n",
        "    pd.options.display.max_rows = None\n",
        "    pd.set_option( 'display.expand_frame_repr', False )\n",
        "\n",
        "    sns.set()\n"
      ],
      "metadata": {
        "id": "xh29D9C48PrR"
      },
      "execution_count": null,
      "outputs": []
    },
    {
      "cell_type": "code",
      "source": [
        "jupyter_settings()"
      ],
      "metadata": {
        "colab": {
          "base_uri": "https://localhost:8080/",
          "height": 34
        },
        "id": "B1rwviHW83w_",
        "outputId": "46766b33-199f-4d0e-f71c-3833558132df"
      },
      "execution_count": null,
      "outputs": [
        {
          "output_type": "stream",
          "name": "stdout",
          "text": [
            "Populating the interactive namespace from numpy and matplotlib\n"
          ]
        },
        {
          "output_type": "display_data",
          "data": {
            "text/plain": [
              "<IPython.core.display.HTML object>"
            ],
            "text/html": [
              "<style>.container { width:95% !important; }</style>"
            ]
          },
          "metadata": {}
        }
      ]
    },
    {
      "cell_type": "markdown",
      "source": [
        "# 2.0 Descriptive Data Analysis"
      ],
      "metadata": {
        "id": "6u2XMDjEpSa1"
      }
    },
    {
      "cell_type": "markdown",
      "source": [
        "##2.1 Viewing data \n",
        "\n"
      ],
      "metadata": {
        "id": "YIq78DRnpeaU"
      }
    },
    {
      "cell_type": "code",
      "source": [
        "df_churn = pd.read_csv(\"/content/drive/MyDrive/Voltando as origens DS/Churn_Modelling.csv\")"
      ],
      "metadata": {
        "id": "fkuCb2FepdEt"
      },
      "execution_count": null,
      "outputs": []
    },
    {
      "cell_type": "code",
      "source": [
        "df_churn.head()"
      ],
      "metadata": {
        "colab": {
          "base_uri": "https://localhost:8080/",
          "height": 270
        },
        "id": "j5TtT5mfpa6e",
        "outputId": "30ba331f-0712-472f-cbef-ffc1ea0c984e"
      },
      "execution_count": null,
      "outputs": [
        {
          "output_type": "execute_result",
          "data": {
            "text/plain": [
              "   RowNumber  CustomerId   Surname  CreditScore Geography  Gender  Age  Tenure    Balance  NumOfProducts  HasCrCard  IsActiveMember  EstimatedSalary  Exited\n",
              "0          1    15634602  Hargrave          619    France  Female   42       2       0.00              1          1               1        101348.88       1\n",
              "1          2    15647311      Hill          608     Spain  Female   41       1   83807.86              1          0               1        112542.58       0\n",
              "2          3    15619304      Onio          502    France  Female   42       8  159660.80              3          1               0        113931.57       1\n",
              "3          4    15701354      Boni          699    France  Female   39       1       0.00              2          0               0         93826.63       0\n",
              "4          5    15737888  Mitchell          850     Spain  Female   43       2  125510.82              1          1               1         79084.10       0"
            ],
            "text/html": [
              "\n",
              "  <div id=\"df-d44d9eb3-6da1-4edc-8e5a-9655e0ea4da7\">\n",
              "    <div class=\"colab-df-container\">\n",
              "      <div>\n",
              "<style scoped>\n",
              "    .dataframe tbody tr th:only-of-type {\n",
              "        vertical-align: middle;\n",
              "    }\n",
              "\n",
              "    .dataframe tbody tr th {\n",
              "        vertical-align: top;\n",
              "    }\n",
              "\n",
              "    .dataframe thead th {\n",
              "        text-align: right;\n",
              "    }\n",
              "</style>\n",
              "<table border=\"1\" class=\"dataframe\">\n",
              "  <thead>\n",
              "    <tr style=\"text-align: right;\">\n",
              "      <th></th>\n",
              "      <th>RowNumber</th>\n",
              "      <th>CustomerId</th>\n",
              "      <th>Surname</th>\n",
              "      <th>CreditScore</th>\n",
              "      <th>Geography</th>\n",
              "      <th>Gender</th>\n",
              "      <th>Age</th>\n",
              "      <th>Tenure</th>\n",
              "      <th>Balance</th>\n",
              "      <th>NumOfProducts</th>\n",
              "      <th>HasCrCard</th>\n",
              "      <th>IsActiveMember</th>\n",
              "      <th>EstimatedSalary</th>\n",
              "      <th>Exited</th>\n",
              "    </tr>\n",
              "  </thead>\n",
              "  <tbody>\n",
              "    <tr>\n",
              "      <th>0</th>\n",
              "      <td>1</td>\n",
              "      <td>15634602</td>\n",
              "      <td>Hargrave</td>\n",
              "      <td>619</td>\n",
              "      <td>France</td>\n",
              "      <td>Female</td>\n",
              "      <td>42</td>\n",
              "      <td>2</td>\n",
              "      <td>0.00</td>\n",
              "      <td>1</td>\n",
              "      <td>1</td>\n",
              "      <td>1</td>\n",
              "      <td>101348.88</td>\n",
              "      <td>1</td>\n",
              "    </tr>\n",
              "    <tr>\n",
              "      <th>1</th>\n",
              "      <td>2</td>\n",
              "      <td>15647311</td>\n",
              "      <td>Hill</td>\n",
              "      <td>608</td>\n",
              "      <td>Spain</td>\n",
              "      <td>Female</td>\n",
              "      <td>41</td>\n",
              "      <td>1</td>\n",
              "      <td>83807.86</td>\n",
              "      <td>1</td>\n",
              "      <td>0</td>\n",
              "      <td>1</td>\n",
              "      <td>112542.58</td>\n",
              "      <td>0</td>\n",
              "    </tr>\n",
              "    <tr>\n",
              "      <th>2</th>\n",
              "      <td>3</td>\n",
              "      <td>15619304</td>\n",
              "      <td>Onio</td>\n",
              "      <td>502</td>\n",
              "      <td>France</td>\n",
              "      <td>Female</td>\n",
              "      <td>42</td>\n",
              "      <td>8</td>\n",
              "      <td>159660.80</td>\n",
              "      <td>3</td>\n",
              "      <td>1</td>\n",
              "      <td>0</td>\n",
              "      <td>113931.57</td>\n",
              "      <td>1</td>\n",
              "    </tr>\n",
              "    <tr>\n",
              "      <th>3</th>\n",
              "      <td>4</td>\n",
              "      <td>15701354</td>\n",
              "      <td>Boni</td>\n",
              "      <td>699</td>\n",
              "      <td>France</td>\n",
              "      <td>Female</td>\n",
              "      <td>39</td>\n",
              "      <td>1</td>\n",
              "      <td>0.00</td>\n",
              "      <td>2</td>\n",
              "      <td>0</td>\n",
              "      <td>0</td>\n",
              "      <td>93826.63</td>\n",
              "      <td>0</td>\n",
              "    </tr>\n",
              "    <tr>\n",
              "      <th>4</th>\n",
              "      <td>5</td>\n",
              "      <td>15737888</td>\n",
              "      <td>Mitchell</td>\n",
              "      <td>850</td>\n",
              "      <td>Spain</td>\n",
              "      <td>Female</td>\n",
              "      <td>43</td>\n",
              "      <td>2</td>\n",
              "      <td>125510.82</td>\n",
              "      <td>1</td>\n",
              "      <td>1</td>\n",
              "      <td>1</td>\n",
              "      <td>79084.10</td>\n",
              "      <td>0</td>\n",
              "    </tr>\n",
              "  </tbody>\n",
              "</table>\n",
              "</div>\n",
              "      <button class=\"colab-df-convert\" onclick=\"convertToInteractive('df-d44d9eb3-6da1-4edc-8e5a-9655e0ea4da7')\"\n",
              "              title=\"Convert this dataframe to an interactive table.\"\n",
              "              style=\"display:none;\">\n",
              "        \n",
              "  <svg xmlns=\"http://www.w3.org/2000/svg\" height=\"24px\"viewBox=\"0 0 24 24\"\n",
              "       width=\"24px\">\n",
              "    <path d=\"M0 0h24v24H0V0z\" fill=\"none\"/>\n",
              "    <path d=\"M18.56 5.44l.94 2.06.94-2.06 2.06-.94-2.06-.94-.94-2.06-.94 2.06-2.06.94zm-11 1L8.5 8.5l.94-2.06 2.06-.94-2.06-.94L8.5 2.5l-.94 2.06-2.06.94zm10 10l.94 2.06.94-2.06 2.06-.94-2.06-.94-.94-2.06-.94 2.06-2.06.94z\"/><path d=\"M17.41 7.96l-1.37-1.37c-.4-.4-.92-.59-1.43-.59-.52 0-1.04.2-1.43.59L10.3 9.45l-7.72 7.72c-.78.78-.78 2.05 0 2.83L4 21.41c.39.39.9.59 1.41.59.51 0 1.02-.2 1.41-.59l7.78-7.78 2.81-2.81c.8-.78.8-2.07 0-2.86zM5.41 20L4 18.59l7.72-7.72 1.47 1.35L5.41 20z\"/>\n",
              "  </svg>\n",
              "      </button>\n",
              "      \n",
              "  <style>\n",
              "    .colab-df-container {\n",
              "      display:flex;\n",
              "      flex-wrap:wrap;\n",
              "      gap: 12px;\n",
              "    }\n",
              "\n",
              "    .colab-df-convert {\n",
              "      background-color: #E8F0FE;\n",
              "      border: none;\n",
              "      border-radius: 50%;\n",
              "      cursor: pointer;\n",
              "      display: none;\n",
              "      fill: #1967D2;\n",
              "      height: 32px;\n",
              "      padding: 0 0 0 0;\n",
              "      width: 32px;\n",
              "    }\n",
              "\n",
              "    .colab-df-convert:hover {\n",
              "      background-color: #E2EBFA;\n",
              "      box-shadow: 0px 1px 2px rgba(60, 64, 67, 0.3), 0px 1px 3px 1px rgba(60, 64, 67, 0.15);\n",
              "      fill: #174EA6;\n",
              "    }\n",
              "\n",
              "    [theme=dark] .colab-df-convert {\n",
              "      background-color: #3B4455;\n",
              "      fill: #D2E3FC;\n",
              "    }\n",
              "\n",
              "    [theme=dark] .colab-df-convert:hover {\n",
              "      background-color: #434B5C;\n",
              "      box-shadow: 0px 1px 3px 1px rgba(0, 0, 0, 0.15);\n",
              "      filter: drop-shadow(0px 1px 2px rgba(0, 0, 0, 0.3));\n",
              "      fill: #FFFFFF;\n",
              "    }\n",
              "  </style>\n",
              "\n",
              "      <script>\n",
              "        const buttonEl =\n",
              "          document.querySelector('#df-d44d9eb3-6da1-4edc-8e5a-9655e0ea4da7 button.colab-df-convert');\n",
              "        buttonEl.style.display =\n",
              "          google.colab.kernel.accessAllowed ? 'block' : 'none';\n",
              "\n",
              "        async function convertToInteractive(key) {\n",
              "          const element = document.querySelector('#df-d44d9eb3-6da1-4edc-8e5a-9655e0ea4da7');\n",
              "          const dataTable =\n",
              "            await google.colab.kernel.invokeFunction('convertToInteractive',\n",
              "                                                     [key], {});\n",
              "          if (!dataTable) return;\n",
              "\n",
              "          const docLinkHtml = 'Like what you see? Visit the ' +\n",
              "            '<a target=\"_blank\" href=https://colab.research.google.com/notebooks/data_table.ipynb>data table notebook</a>'\n",
              "            + ' to learn more about interactive tables.';\n",
              "          element.innerHTML = '';\n",
              "          dataTable['output_type'] = 'display_data';\n",
              "          await google.colab.output.renderOutput(dataTable, element);\n",
              "          const docLink = document.createElement('div');\n",
              "          docLink.innerHTML = docLinkHtml;\n",
              "          element.appendChild(docLink);\n",
              "        }\n",
              "      </script>\n",
              "    </div>\n",
              "  </div>\n",
              "  "
            ]
          },
          "metadata": {},
          "execution_count": 27
        }
      ]
    },
    {
      "cell_type": "markdown",
      "source": [
        "## 2.2 Missing Values"
      ],
      "metadata": {
        "id": "1MS8j_KbrJ4l"
      }
    },
    {
      "cell_type": "markdown",
      "source": [
        "**We do not have missing values**"
      ],
      "metadata": {
        "id": "DnaYd-Unrl-L"
      }
    },
    {
      "cell_type": "code",
      "source": [
        "df_churn.info()"
      ],
      "metadata": {
        "colab": {
          "base_uri": "https://localhost:8080/"
        },
        "id": "b0mAEedSnRwo",
        "outputId": "00a61e32-e6a2-437f-eb5c-e753a89a69ae"
      },
      "execution_count": null,
      "outputs": [
        {
          "output_type": "stream",
          "name": "stdout",
          "text": [
            "<class 'pandas.core.frame.DataFrame'>\n",
            "RangeIndex: 10000 entries, 0 to 9999\n",
            "Data columns (total 14 columns):\n",
            " #   Column           Non-Null Count  Dtype  \n",
            "---  ------           --------------  -----  \n",
            " 0   RowNumber        10000 non-null  int64  \n",
            " 1   CustomerId       10000 non-null  int64  \n",
            " 2   Surname          10000 non-null  object \n",
            " 3   CreditScore      10000 non-null  int64  \n",
            " 4   Geography        10000 non-null  object \n",
            " 5   Gender           10000 non-null  object \n",
            " 6   Age              10000 non-null  int64  \n",
            " 7   Tenure           10000 non-null  int64  \n",
            " 8   Balance          10000 non-null  float64\n",
            " 9   NumOfProducts    10000 non-null  int64  \n",
            " 10  HasCrCard        10000 non-null  int64  \n",
            " 11  IsActiveMember   10000 non-null  int64  \n",
            " 12  EstimatedSalary  10000 non-null  float64\n",
            " 13  Exited           10000 non-null  int64  \n",
            "dtypes: float64(2), int64(9), object(3)\n",
            "memory usage: 1.1+ MB\n"
          ]
        }
      ]
    },
    {
      "cell_type": "markdown",
      "source": [
        "## 2.3 Checking the classes "
      ],
      "metadata": {
        "id": "vYlzM4-ksQdl"
      }
    },
    {
      "cell_type": "markdown",
      "source": [
        "**20 % of the customers closed the bank account **"
      ],
      "metadata": {
        "id": "GrSDdOdcxUcj"
      }
    },
    {
      "cell_type": "code",
      "source": [
        "Exited = df_churn[\"Exited\"].value_counts()\n",
        "\n",
        "Exited"
      ],
      "metadata": {
        "id": "e9uBuL_8U79p",
        "colab": {
          "base_uri": "https://localhost:8080/"
        },
        "outputId": "84503f83-92fd-46a9-f8fe-15453e378326"
      },
      "execution_count": null,
      "outputs": [
        {
          "output_type": "execute_result",
          "data": {
            "text/plain": [
              "0    7963\n",
              "1    2037\n",
              "Name: Exited, dtype: int64"
            ]
          },
          "metadata": {},
          "execution_count": 29
        }
      ]
    },
    {
      "cell_type": "code",
      "source": [
        "leave = (Exited[1]/len(df_churn[\"Exited\"]))*100\n",
        "\n",
        "print(leave,\"%\")"
      ],
      "metadata": {
        "colab": {
          "base_uri": "https://localhost:8080/"
        },
        "id": "WfxhVAPgtnqt",
        "outputId": "65eaf5d7-567e-4617-9fa8-21d49e93fd8c"
      },
      "execution_count": null,
      "outputs": [
        {
          "output_type": "stream",
          "name": "stdout",
          "text": [
            "20.369999999999997 %\n"
          ]
        }
      ]
    },
    {
      "cell_type": "markdown",
      "source": [
        "##2.4 Distribution and Data "
      ],
      "metadata": {
        "id": "ZXnHZbygxuFw"
      }
    },
    {
      "cell_type": "markdown",
      "source": [
        "### 2.4.1 Row Number"
      ],
      "metadata": {
        "id": "j19ddn5ix6EQ"
      }
    },
    {
      "cell_type": "code",
      "source": [
        "df_churn[\"RowNumber\"].unique()"
      ],
      "metadata": {
        "colab": {
          "base_uri": "https://localhost:8080/"
        },
        "id": "sx4CoYU4vcb4",
        "outputId": "cf88e67e-1419-41ac-85c3-8dd3bf74b677"
      },
      "execution_count": null,
      "outputs": [
        {
          "output_type": "execute_result",
          "data": {
            "text/plain": [
              "array([    1,     2,     3, ...,  9998,  9999, 10000])"
            ]
          },
          "metadata": {},
          "execution_count": 31
        }
      ]
    },
    {
      "cell_type": "markdown",
      "source": [
        "As we can see RowNumber is just a line identifier so it has no predictive power and we will delete it"
      ],
      "metadata": {
        "id": "k5-HSSyTyZOg"
      }
    },
    {
      "cell_type": "code",
      "source": [
        "df_churn2 = df_churn.drop(\"RowNumber\",axis=1)"
      ],
      "metadata": {
        "id": "kIlZJs1MyDBf"
      },
      "execution_count": null,
      "outputs": []
    },
    {
      "cell_type": "code",
      "source": [
        "df_churn2.head()"
      ],
      "metadata": {
        "colab": {
          "base_uri": "https://localhost:8080/",
          "height": 270
        },
        "id": "bT7oN_biyl0y",
        "outputId": "07e1fab6-541e-457b-b1bd-1a59a68bb052"
      },
      "execution_count": null,
      "outputs": [
        {
          "output_type": "execute_result",
          "data": {
            "text/plain": [
              "   CustomerId   Surname  CreditScore Geography  Gender  Age  Tenure    Balance  NumOfProducts  HasCrCard  IsActiveMember  EstimatedSalary  Exited\n",
              "0    15634602  Hargrave          619    France  Female   42       2       0.00              1          1               1        101348.88       1\n",
              "1    15647311      Hill          608     Spain  Female   41       1   83807.86              1          0               1        112542.58       0\n",
              "2    15619304      Onio          502    France  Female   42       8  159660.80              3          1               0        113931.57       1\n",
              "3    15701354      Boni          699    France  Female   39       1       0.00              2          0               0         93826.63       0\n",
              "4    15737888  Mitchell          850     Spain  Female   43       2  125510.82              1          1               1         79084.10       0"
            ],
            "text/html": [
              "\n",
              "  <div id=\"df-6621ba3c-ed0d-4e36-8833-21718b45da03\">\n",
              "    <div class=\"colab-df-container\">\n",
              "      <div>\n",
              "<style scoped>\n",
              "    .dataframe tbody tr th:only-of-type {\n",
              "        vertical-align: middle;\n",
              "    }\n",
              "\n",
              "    .dataframe tbody tr th {\n",
              "        vertical-align: top;\n",
              "    }\n",
              "\n",
              "    .dataframe thead th {\n",
              "        text-align: right;\n",
              "    }\n",
              "</style>\n",
              "<table border=\"1\" class=\"dataframe\">\n",
              "  <thead>\n",
              "    <tr style=\"text-align: right;\">\n",
              "      <th></th>\n",
              "      <th>CustomerId</th>\n",
              "      <th>Surname</th>\n",
              "      <th>CreditScore</th>\n",
              "      <th>Geography</th>\n",
              "      <th>Gender</th>\n",
              "      <th>Age</th>\n",
              "      <th>Tenure</th>\n",
              "      <th>Balance</th>\n",
              "      <th>NumOfProducts</th>\n",
              "      <th>HasCrCard</th>\n",
              "      <th>IsActiveMember</th>\n",
              "      <th>EstimatedSalary</th>\n",
              "      <th>Exited</th>\n",
              "    </tr>\n",
              "  </thead>\n",
              "  <tbody>\n",
              "    <tr>\n",
              "      <th>0</th>\n",
              "      <td>15634602</td>\n",
              "      <td>Hargrave</td>\n",
              "      <td>619</td>\n",
              "      <td>France</td>\n",
              "      <td>Female</td>\n",
              "      <td>42</td>\n",
              "      <td>2</td>\n",
              "      <td>0.00</td>\n",
              "      <td>1</td>\n",
              "      <td>1</td>\n",
              "      <td>1</td>\n",
              "      <td>101348.88</td>\n",
              "      <td>1</td>\n",
              "    </tr>\n",
              "    <tr>\n",
              "      <th>1</th>\n",
              "      <td>15647311</td>\n",
              "      <td>Hill</td>\n",
              "      <td>608</td>\n",
              "      <td>Spain</td>\n",
              "      <td>Female</td>\n",
              "      <td>41</td>\n",
              "      <td>1</td>\n",
              "      <td>83807.86</td>\n",
              "      <td>1</td>\n",
              "      <td>0</td>\n",
              "      <td>1</td>\n",
              "      <td>112542.58</td>\n",
              "      <td>0</td>\n",
              "    </tr>\n",
              "    <tr>\n",
              "      <th>2</th>\n",
              "      <td>15619304</td>\n",
              "      <td>Onio</td>\n",
              "      <td>502</td>\n",
              "      <td>France</td>\n",
              "      <td>Female</td>\n",
              "      <td>42</td>\n",
              "      <td>8</td>\n",
              "      <td>159660.80</td>\n",
              "      <td>3</td>\n",
              "      <td>1</td>\n",
              "      <td>0</td>\n",
              "      <td>113931.57</td>\n",
              "      <td>1</td>\n",
              "    </tr>\n",
              "    <tr>\n",
              "      <th>3</th>\n",
              "      <td>15701354</td>\n",
              "      <td>Boni</td>\n",
              "      <td>699</td>\n",
              "      <td>France</td>\n",
              "      <td>Female</td>\n",
              "      <td>39</td>\n",
              "      <td>1</td>\n",
              "      <td>0.00</td>\n",
              "      <td>2</td>\n",
              "      <td>0</td>\n",
              "      <td>0</td>\n",
              "      <td>93826.63</td>\n",
              "      <td>0</td>\n",
              "    </tr>\n",
              "    <tr>\n",
              "      <th>4</th>\n",
              "      <td>15737888</td>\n",
              "      <td>Mitchell</td>\n",
              "      <td>850</td>\n",
              "      <td>Spain</td>\n",
              "      <td>Female</td>\n",
              "      <td>43</td>\n",
              "      <td>2</td>\n",
              "      <td>125510.82</td>\n",
              "      <td>1</td>\n",
              "      <td>1</td>\n",
              "      <td>1</td>\n",
              "      <td>79084.10</td>\n",
              "      <td>0</td>\n",
              "    </tr>\n",
              "  </tbody>\n",
              "</table>\n",
              "</div>\n",
              "      <button class=\"colab-df-convert\" onclick=\"convertToInteractive('df-6621ba3c-ed0d-4e36-8833-21718b45da03')\"\n",
              "              title=\"Convert this dataframe to an interactive table.\"\n",
              "              style=\"display:none;\">\n",
              "        \n",
              "  <svg xmlns=\"http://www.w3.org/2000/svg\" height=\"24px\"viewBox=\"0 0 24 24\"\n",
              "       width=\"24px\">\n",
              "    <path d=\"M0 0h24v24H0V0z\" fill=\"none\"/>\n",
              "    <path d=\"M18.56 5.44l.94 2.06.94-2.06 2.06-.94-2.06-.94-.94-2.06-.94 2.06-2.06.94zm-11 1L8.5 8.5l.94-2.06 2.06-.94-2.06-.94L8.5 2.5l-.94 2.06-2.06.94zm10 10l.94 2.06.94-2.06 2.06-.94-2.06-.94-.94-2.06-.94 2.06-2.06.94z\"/><path d=\"M17.41 7.96l-1.37-1.37c-.4-.4-.92-.59-1.43-.59-.52 0-1.04.2-1.43.59L10.3 9.45l-7.72 7.72c-.78.78-.78 2.05 0 2.83L4 21.41c.39.39.9.59 1.41.59.51 0 1.02-.2 1.41-.59l7.78-7.78 2.81-2.81c.8-.78.8-2.07 0-2.86zM5.41 20L4 18.59l7.72-7.72 1.47 1.35L5.41 20z\"/>\n",
              "  </svg>\n",
              "      </button>\n",
              "      \n",
              "  <style>\n",
              "    .colab-df-container {\n",
              "      display:flex;\n",
              "      flex-wrap:wrap;\n",
              "      gap: 12px;\n",
              "    }\n",
              "\n",
              "    .colab-df-convert {\n",
              "      background-color: #E8F0FE;\n",
              "      border: none;\n",
              "      border-radius: 50%;\n",
              "      cursor: pointer;\n",
              "      display: none;\n",
              "      fill: #1967D2;\n",
              "      height: 32px;\n",
              "      padding: 0 0 0 0;\n",
              "      width: 32px;\n",
              "    }\n",
              "\n",
              "    .colab-df-convert:hover {\n",
              "      background-color: #E2EBFA;\n",
              "      box-shadow: 0px 1px 2px rgba(60, 64, 67, 0.3), 0px 1px 3px 1px rgba(60, 64, 67, 0.15);\n",
              "      fill: #174EA6;\n",
              "    }\n",
              "\n",
              "    [theme=dark] .colab-df-convert {\n",
              "      background-color: #3B4455;\n",
              "      fill: #D2E3FC;\n",
              "    }\n",
              "\n",
              "    [theme=dark] .colab-df-convert:hover {\n",
              "      background-color: #434B5C;\n",
              "      box-shadow: 0px 1px 3px 1px rgba(0, 0, 0, 0.15);\n",
              "      filter: drop-shadow(0px 1px 2px rgba(0, 0, 0, 0.3));\n",
              "      fill: #FFFFFF;\n",
              "    }\n",
              "  </style>\n",
              "\n",
              "      <script>\n",
              "        const buttonEl =\n",
              "          document.querySelector('#df-6621ba3c-ed0d-4e36-8833-21718b45da03 button.colab-df-convert');\n",
              "        buttonEl.style.display =\n",
              "          google.colab.kernel.accessAllowed ? 'block' : 'none';\n",
              "\n",
              "        async function convertToInteractive(key) {\n",
              "          const element = document.querySelector('#df-6621ba3c-ed0d-4e36-8833-21718b45da03');\n",
              "          const dataTable =\n",
              "            await google.colab.kernel.invokeFunction('convertToInteractive',\n",
              "                                                     [key], {});\n",
              "          if (!dataTable) return;\n",
              "\n",
              "          const docLinkHtml = 'Like what you see? Visit the ' +\n",
              "            '<a target=\"_blank\" href=https://colab.research.google.com/notebooks/data_table.ipynb>data table notebook</a>'\n",
              "            + ' to learn more about interactive tables.';\n",
              "          element.innerHTML = '';\n",
              "          dataTable['output_type'] = 'display_data';\n",
              "          await google.colab.output.renderOutput(dataTable, element);\n",
              "          const docLink = document.createElement('div');\n",
              "          docLink.innerHTML = docLinkHtml;\n",
              "          element.appendChild(docLink);\n",
              "        }\n",
              "      </script>\n",
              "    </div>\n",
              "  </div>\n",
              "  "
            ]
          },
          "metadata": {},
          "execution_count": 33
        }
      ]
    },
    {
      "cell_type": "markdown",
      "source": [
        "### 2.4.2 CustomerID"
      ],
      "metadata": {
        "id": "iyBv5BsxzOw-"
      }
    },
    {
      "cell_type": "code",
      "source": [
        "df_churn[\"CustomerId\"].unique()"
      ],
      "metadata": {
        "colab": {
          "base_uri": "https://localhost:8080/"
        },
        "id": "-2qLkpnAy0C7",
        "outputId": "bb8b6b2c-f9ce-4f46-f63c-0264d7cba58b"
      },
      "execution_count": null,
      "outputs": [
        {
          "output_type": "execute_result",
          "data": {
            "text/plain": [
              "array([15634602, 15647311, 15619304, ..., 15584532, 15682355, 15628319])"
            ]
          },
          "metadata": {},
          "execution_count": 34
        }
      ]
    },
    {
      "cell_type": "markdown",
      "source": [
        "The same goes to CustomerID"
      ],
      "metadata": {
        "id": "gbfDDsE_0B5s"
      }
    },
    {
      "cell_type": "code",
      "source": [
        "df_churn2 = df_churn2.drop(\"CustomerId\",axis=1)\n",
        "\n",
        "df_churn2.head()"
      ],
      "metadata": {
        "colab": {
          "base_uri": "https://localhost:8080/",
          "height": 270
        },
        "id": "LI6mxk-XztJc",
        "outputId": "d97dad98-7aae-406f-feba-62f0f59b1b94"
      },
      "execution_count": null,
      "outputs": [
        {
          "output_type": "execute_result",
          "data": {
            "text/plain": [
              "    Surname  CreditScore Geography  Gender  Age  Tenure    Balance  NumOfProducts  HasCrCard  IsActiveMember  EstimatedSalary  Exited\n",
              "0  Hargrave          619    France  Female   42       2       0.00              1          1               1        101348.88       1\n",
              "1      Hill          608     Spain  Female   41       1   83807.86              1          0               1        112542.58       0\n",
              "2      Onio          502    France  Female   42       8  159660.80              3          1               0        113931.57       1\n",
              "3      Boni          699    France  Female   39       1       0.00              2          0               0         93826.63       0\n",
              "4  Mitchell          850     Spain  Female   43       2  125510.82              1          1               1         79084.10       0"
            ],
            "text/html": [
              "\n",
              "  <div id=\"df-e416f7b9-00c7-4060-818d-0bf883f85259\">\n",
              "    <div class=\"colab-df-container\">\n",
              "      <div>\n",
              "<style scoped>\n",
              "    .dataframe tbody tr th:only-of-type {\n",
              "        vertical-align: middle;\n",
              "    }\n",
              "\n",
              "    .dataframe tbody tr th {\n",
              "        vertical-align: top;\n",
              "    }\n",
              "\n",
              "    .dataframe thead th {\n",
              "        text-align: right;\n",
              "    }\n",
              "</style>\n",
              "<table border=\"1\" class=\"dataframe\">\n",
              "  <thead>\n",
              "    <tr style=\"text-align: right;\">\n",
              "      <th></th>\n",
              "      <th>Surname</th>\n",
              "      <th>CreditScore</th>\n",
              "      <th>Geography</th>\n",
              "      <th>Gender</th>\n",
              "      <th>Age</th>\n",
              "      <th>Tenure</th>\n",
              "      <th>Balance</th>\n",
              "      <th>NumOfProducts</th>\n",
              "      <th>HasCrCard</th>\n",
              "      <th>IsActiveMember</th>\n",
              "      <th>EstimatedSalary</th>\n",
              "      <th>Exited</th>\n",
              "    </tr>\n",
              "  </thead>\n",
              "  <tbody>\n",
              "    <tr>\n",
              "      <th>0</th>\n",
              "      <td>Hargrave</td>\n",
              "      <td>619</td>\n",
              "      <td>France</td>\n",
              "      <td>Female</td>\n",
              "      <td>42</td>\n",
              "      <td>2</td>\n",
              "      <td>0.00</td>\n",
              "      <td>1</td>\n",
              "      <td>1</td>\n",
              "      <td>1</td>\n",
              "      <td>101348.88</td>\n",
              "      <td>1</td>\n",
              "    </tr>\n",
              "    <tr>\n",
              "      <th>1</th>\n",
              "      <td>Hill</td>\n",
              "      <td>608</td>\n",
              "      <td>Spain</td>\n",
              "      <td>Female</td>\n",
              "      <td>41</td>\n",
              "      <td>1</td>\n",
              "      <td>83807.86</td>\n",
              "      <td>1</td>\n",
              "      <td>0</td>\n",
              "      <td>1</td>\n",
              "      <td>112542.58</td>\n",
              "      <td>0</td>\n",
              "    </tr>\n",
              "    <tr>\n",
              "      <th>2</th>\n",
              "      <td>Onio</td>\n",
              "      <td>502</td>\n",
              "      <td>France</td>\n",
              "      <td>Female</td>\n",
              "      <td>42</td>\n",
              "      <td>8</td>\n",
              "      <td>159660.80</td>\n",
              "      <td>3</td>\n",
              "      <td>1</td>\n",
              "      <td>0</td>\n",
              "      <td>113931.57</td>\n",
              "      <td>1</td>\n",
              "    </tr>\n",
              "    <tr>\n",
              "      <th>3</th>\n",
              "      <td>Boni</td>\n",
              "      <td>699</td>\n",
              "      <td>France</td>\n",
              "      <td>Female</td>\n",
              "      <td>39</td>\n",
              "      <td>1</td>\n",
              "      <td>0.00</td>\n",
              "      <td>2</td>\n",
              "      <td>0</td>\n",
              "      <td>0</td>\n",
              "      <td>93826.63</td>\n",
              "      <td>0</td>\n",
              "    </tr>\n",
              "    <tr>\n",
              "      <th>4</th>\n",
              "      <td>Mitchell</td>\n",
              "      <td>850</td>\n",
              "      <td>Spain</td>\n",
              "      <td>Female</td>\n",
              "      <td>43</td>\n",
              "      <td>2</td>\n",
              "      <td>125510.82</td>\n",
              "      <td>1</td>\n",
              "      <td>1</td>\n",
              "      <td>1</td>\n",
              "      <td>79084.10</td>\n",
              "      <td>0</td>\n",
              "    </tr>\n",
              "  </tbody>\n",
              "</table>\n",
              "</div>\n",
              "      <button class=\"colab-df-convert\" onclick=\"convertToInteractive('df-e416f7b9-00c7-4060-818d-0bf883f85259')\"\n",
              "              title=\"Convert this dataframe to an interactive table.\"\n",
              "              style=\"display:none;\">\n",
              "        \n",
              "  <svg xmlns=\"http://www.w3.org/2000/svg\" height=\"24px\"viewBox=\"0 0 24 24\"\n",
              "       width=\"24px\">\n",
              "    <path d=\"M0 0h24v24H0V0z\" fill=\"none\"/>\n",
              "    <path d=\"M18.56 5.44l.94 2.06.94-2.06 2.06-.94-2.06-.94-.94-2.06-.94 2.06-2.06.94zm-11 1L8.5 8.5l.94-2.06 2.06-.94-2.06-.94L8.5 2.5l-.94 2.06-2.06.94zm10 10l.94 2.06.94-2.06 2.06-.94-2.06-.94-.94-2.06-.94 2.06-2.06.94z\"/><path d=\"M17.41 7.96l-1.37-1.37c-.4-.4-.92-.59-1.43-.59-.52 0-1.04.2-1.43.59L10.3 9.45l-7.72 7.72c-.78.78-.78 2.05 0 2.83L4 21.41c.39.39.9.59 1.41.59.51 0 1.02-.2 1.41-.59l7.78-7.78 2.81-2.81c.8-.78.8-2.07 0-2.86zM5.41 20L4 18.59l7.72-7.72 1.47 1.35L5.41 20z\"/>\n",
              "  </svg>\n",
              "      </button>\n",
              "      \n",
              "  <style>\n",
              "    .colab-df-container {\n",
              "      display:flex;\n",
              "      flex-wrap:wrap;\n",
              "      gap: 12px;\n",
              "    }\n",
              "\n",
              "    .colab-df-convert {\n",
              "      background-color: #E8F0FE;\n",
              "      border: none;\n",
              "      border-radius: 50%;\n",
              "      cursor: pointer;\n",
              "      display: none;\n",
              "      fill: #1967D2;\n",
              "      height: 32px;\n",
              "      padding: 0 0 0 0;\n",
              "      width: 32px;\n",
              "    }\n",
              "\n",
              "    .colab-df-convert:hover {\n",
              "      background-color: #E2EBFA;\n",
              "      box-shadow: 0px 1px 2px rgba(60, 64, 67, 0.3), 0px 1px 3px 1px rgba(60, 64, 67, 0.15);\n",
              "      fill: #174EA6;\n",
              "    }\n",
              "\n",
              "    [theme=dark] .colab-df-convert {\n",
              "      background-color: #3B4455;\n",
              "      fill: #D2E3FC;\n",
              "    }\n",
              "\n",
              "    [theme=dark] .colab-df-convert:hover {\n",
              "      background-color: #434B5C;\n",
              "      box-shadow: 0px 1px 3px 1px rgba(0, 0, 0, 0.15);\n",
              "      filter: drop-shadow(0px 1px 2px rgba(0, 0, 0, 0.3));\n",
              "      fill: #FFFFFF;\n",
              "    }\n",
              "  </style>\n",
              "\n",
              "      <script>\n",
              "        const buttonEl =\n",
              "          document.querySelector('#df-e416f7b9-00c7-4060-818d-0bf883f85259 button.colab-df-convert');\n",
              "        buttonEl.style.display =\n",
              "          google.colab.kernel.accessAllowed ? 'block' : 'none';\n",
              "\n",
              "        async function convertToInteractive(key) {\n",
              "          const element = document.querySelector('#df-e416f7b9-00c7-4060-818d-0bf883f85259');\n",
              "          const dataTable =\n",
              "            await google.colab.kernel.invokeFunction('convertToInteractive',\n",
              "                                                     [key], {});\n",
              "          if (!dataTable) return;\n",
              "\n",
              "          const docLinkHtml = 'Like what you see? Visit the ' +\n",
              "            '<a target=\"_blank\" href=https://colab.research.google.com/notebooks/data_table.ipynb>data table notebook</a>'\n",
              "            + ' to learn more about interactive tables.';\n",
              "          element.innerHTML = '';\n",
              "          dataTable['output_type'] = 'display_data';\n",
              "          await google.colab.output.renderOutput(dataTable, element);\n",
              "          const docLink = document.createElement('div');\n",
              "          docLink.innerHTML = docLinkHtml;\n",
              "          element.appendChild(docLink);\n",
              "        }\n",
              "      </script>\n",
              "    </div>\n",
              "  </div>\n",
              "  "
            ]
          },
          "metadata": {},
          "execution_count": 35
        }
      ]
    },
    {
      "cell_type": "markdown",
      "source": [
        "### 2.4.3 Surname"
      ],
      "metadata": {
        "id": "xqo9hkSR14ti"
      }
    },
    {
      "cell_type": "code",
      "source": [
        "df_churn2[\"Surname\"].unique()"
      ],
      "metadata": {
        "colab": {
          "base_uri": "https://localhost:8080/"
        },
        "id": "bgEUq0A60VXD",
        "outputId": "0576cd7b-1f9f-45eb-fda8-83015eb059f2"
      },
      "execution_count": null,
      "outputs": [
        {
          "output_type": "execute_result",
          "data": {
            "text/plain": [
              "array(['Hargrave', 'Hill', 'Onio', ..., 'Kashiwagi', 'Aldridge',\n",
              "       'Burbidge'], dtype=object)"
            ]
          },
          "metadata": {},
          "execution_count": 36
        }
      ]
    },
    {
      "cell_type": "code",
      "source": [
        "df_churn2 = df_churn2.drop(\"Surname\",axis=1)\n",
        "\n",
        "df_churn2.head()"
      ],
      "metadata": {
        "colab": {
          "base_uri": "https://localhost:8080/",
          "height": 270
        },
        "id": "GlUaoo5p2LKV",
        "outputId": "0eaef5a4-3a12-4cce-d93b-3bcd78f25312"
      },
      "execution_count": null,
      "outputs": [
        {
          "output_type": "execute_result",
          "data": {
            "text/plain": [
              "   CreditScore Geography  Gender  Age  Tenure    Balance  NumOfProducts  HasCrCard  IsActiveMember  EstimatedSalary  Exited\n",
              "0          619    France  Female   42       2       0.00              1          1               1        101348.88       1\n",
              "1          608     Spain  Female   41       1   83807.86              1          0               1        112542.58       0\n",
              "2          502    France  Female   42       8  159660.80              3          1               0        113931.57       1\n",
              "3          699    France  Female   39       1       0.00              2          0               0         93826.63       0\n",
              "4          850     Spain  Female   43       2  125510.82              1          1               1         79084.10       0"
            ],
            "text/html": [
              "\n",
              "  <div id=\"df-842863cc-1761-468c-bc6b-b6167a869ea8\">\n",
              "    <div class=\"colab-df-container\">\n",
              "      <div>\n",
              "<style scoped>\n",
              "    .dataframe tbody tr th:only-of-type {\n",
              "        vertical-align: middle;\n",
              "    }\n",
              "\n",
              "    .dataframe tbody tr th {\n",
              "        vertical-align: top;\n",
              "    }\n",
              "\n",
              "    .dataframe thead th {\n",
              "        text-align: right;\n",
              "    }\n",
              "</style>\n",
              "<table border=\"1\" class=\"dataframe\">\n",
              "  <thead>\n",
              "    <tr style=\"text-align: right;\">\n",
              "      <th></th>\n",
              "      <th>CreditScore</th>\n",
              "      <th>Geography</th>\n",
              "      <th>Gender</th>\n",
              "      <th>Age</th>\n",
              "      <th>Tenure</th>\n",
              "      <th>Balance</th>\n",
              "      <th>NumOfProducts</th>\n",
              "      <th>HasCrCard</th>\n",
              "      <th>IsActiveMember</th>\n",
              "      <th>EstimatedSalary</th>\n",
              "      <th>Exited</th>\n",
              "    </tr>\n",
              "  </thead>\n",
              "  <tbody>\n",
              "    <tr>\n",
              "      <th>0</th>\n",
              "      <td>619</td>\n",
              "      <td>France</td>\n",
              "      <td>Female</td>\n",
              "      <td>42</td>\n",
              "      <td>2</td>\n",
              "      <td>0.00</td>\n",
              "      <td>1</td>\n",
              "      <td>1</td>\n",
              "      <td>1</td>\n",
              "      <td>101348.88</td>\n",
              "      <td>1</td>\n",
              "    </tr>\n",
              "    <tr>\n",
              "      <th>1</th>\n",
              "      <td>608</td>\n",
              "      <td>Spain</td>\n",
              "      <td>Female</td>\n",
              "      <td>41</td>\n",
              "      <td>1</td>\n",
              "      <td>83807.86</td>\n",
              "      <td>1</td>\n",
              "      <td>0</td>\n",
              "      <td>1</td>\n",
              "      <td>112542.58</td>\n",
              "      <td>0</td>\n",
              "    </tr>\n",
              "    <tr>\n",
              "      <th>2</th>\n",
              "      <td>502</td>\n",
              "      <td>France</td>\n",
              "      <td>Female</td>\n",
              "      <td>42</td>\n",
              "      <td>8</td>\n",
              "      <td>159660.80</td>\n",
              "      <td>3</td>\n",
              "      <td>1</td>\n",
              "      <td>0</td>\n",
              "      <td>113931.57</td>\n",
              "      <td>1</td>\n",
              "    </tr>\n",
              "    <tr>\n",
              "      <th>3</th>\n",
              "      <td>699</td>\n",
              "      <td>France</td>\n",
              "      <td>Female</td>\n",
              "      <td>39</td>\n",
              "      <td>1</td>\n",
              "      <td>0.00</td>\n",
              "      <td>2</td>\n",
              "      <td>0</td>\n",
              "      <td>0</td>\n",
              "      <td>93826.63</td>\n",
              "      <td>0</td>\n",
              "    </tr>\n",
              "    <tr>\n",
              "      <th>4</th>\n",
              "      <td>850</td>\n",
              "      <td>Spain</td>\n",
              "      <td>Female</td>\n",
              "      <td>43</td>\n",
              "      <td>2</td>\n",
              "      <td>125510.82</td>\n",
              "      <td>1</td>\n",
              "      <td>1</td>\n",
              "      <td>1</td>\n",
              "      <td>79084.10</td>\n",
              "      <td>0</td>\n",
              "    </tr>\n",
              "  </tbody>\n",
              "</table>\n",
              "</div>\n",
              "      <button class=\"colab-df-convert\" onclick=\"convertToInteractive('df-842863cc-1761-468c-bc6b-b6167a869ea8')\"\n",
              "              title=\"Convert this dataframe to an interactive table.\"\n",
              "              style=\"display:none;\">\n",
              "        \n",
              "  <svg xmlns=\"http://www.w3.org/2000/svg\" height=\"24px\"viewBox=\"0 0 24 24\"\n",
              "       width=\"24px\">\n",
              "    <path d=\"M0 0h24v24H0V0z\" fill=\"none\"/>\n",
              "    <path d=\"M18.56 5.44l.94 2.06.94-2.06 2.06-.94-2.06-.94-.94-2.06-.94 2.06-2.06.94zm-11 1L8.5 8.5l.94-2.06 2.06-.94-2.06-.94L8.5 2.5l-.94 2.06-2.06.94zm10 10l.94 2.06.94-2.06 2.06-.94-2.06-.94-.94-2.06-.94 2.06-2.06.94z\"/><path d=\"M17.41 7.96l-1.37-1.37c-.4-.4-.92-.59-1.43-.59-.52 0-1.04.2-1.43.59L10.3 9.45l-7.72 7.72c-.78.78-.78 2.05 0 2.83L4 21.41c.39.39.9.59 1.41.59.51 0 1.02-.2 1.41-.59l7.78-7.78 2.81-2.81c.8-.78.8-2.07 0-2.86zM5.41 20L4 18.59l7.72-7.72 1.47 1.35L5.41 20z\"/>\n",
              "  </svg>\n",
              "      </button>\n",
              "      \n",
              "  <style>\n",
              "    .colab-df-container {\n",
              "      display:flex;\n",
              "      flex-wrap:wrap;\n",
              "      gap: 12px;\n",
              "    }\n",
              "\n",
              "    .colab-df-convert {\n",
              "      background-color: #E8F0FE;\n",
              "      border: none;\n",
              "      border-radius: 50%;\n",
              "      cursor: pointer;\n",
              "      display: none;\n",
              "      fill: #1967D2;\n",
              "      height: 32px;\n",
              "      padding: 0 0 0 0;\n",
              "      width: 32px;\n",
              "    }\n",
              "\n",
              "    .colab-df-convert:hover {\n",
              "      background-color: #E2EBFA;\n",
              "      box-shadow: 0px 1px 2px rgba(60, 64, 67, 0.3), 0px 1px 3px 1px rgba(60, 64, 67, 0.15);\n",
              "      fill: #174EA6;\n",
              "    }\n",
              "\n",
              "    [theme=dark] .colab-df-convert {\n",
              "      background-color: #3B4455;\n",
              "      fill: #D2E3FC;\n",
              "    }\n",
              "\n",
              "    [theme=dark] .colab-df-convert:hover {\n",
              "      background-color: #434B5C;\n",
              "      box-shadow: 0px 1px 3px 1px rgba(0, 0, 0, 0.15);\n",
              "      filter: drop-shadow(0px 1px 2px rgba(0, 0, 0, 0.3));\n",
              "      fill: #FFFFFF;\n",
              "    }\n",
              "  </style>\n",
              "\n",
              "      <script>\n",
              "        const buttonEl =\n",
              "          document.querySelector('#df-842863cc-1761-468c-bc6b-b6167a869ea8 button.colab-df-convert');\n",
              "        buttonEl.style.display =\n",
              "          google.colab.kernel.accessAllowed ? 'block' : 'none';\n",
              "\n",
              "        async function convertToInteractive(key) {\n",
              "          const element = document.querySelector('#df-842863cc-1761-468c-bc6b-b6167a869ea8');\n",
              "          const dataTable =\n",
              "            await google.colab.kernel.invokeFunction('convertToInteractive',\n",
              "                                                     [key], {});\n",
              "          if (!dataTable) return;\n",
              "\n",
              "          const docLinkHtml = 'Like what you see? Visit the ' +\n",
              "            '<a target=\"_blank\" href=https://colab.research.google.com/notebooks/data_table.ipynb>data table notebook</a>'\n",
              "            + ' to learn more about interactive tables.';\n",
              "          element.innerHTML = '';\n",
              "          dataTable['output_type'] = 'display_data';\n",
              "          await google.colab.output.renderOutput(dataTable, element);\n",
              "          const docLink = document.createElement('div');\n",
              "          docLink.innerHTML = docLinkHtml;\n",
              "          element.appendChild(docLink);\n",
              "        }\n",
              "      </script>\n",
              "    </div>\n",
              "  </div>\n",
              "  "
            ]
          },
          "metadata": {},
          "execution_count": 37
        }
      ]
    },
    {
      "cell_type": "markdown",
      "source": [
        "### 2.4.4 CreditScore  "
      ],
      "metadata": {
        "id": "DJnJk-zR3OsY"
      }
    },
    {
      "cell_type": "markdown",
      "source": [
        "We have a good distribution of the data. A standard \n",
        "deviation of 96 and 75 percent of the data is between 584 and 718"
      ],
      "metadata": {
        "id": "H46kihxR6y5G"
      }
    },
    {
      "cell_type": "code",
      "source": [
        "df_churn2[\"CreditScore\"].describe( )"
      ],
      "metadata": {
        "colab": {
          "base_uri": "https://localhost:8080/"
        },
        "id": "df7wrwne3RsI",
        "outputId": "4655ee8b-867f-49fb-ae70-4727a889ea8e"
      },
      "execution_count": null,
      "outputs": [
        {
          "output_type": "execute_result",
          "data": {
            "text/plain": [
              "count    10000.000000\n",
              "mean       650.528800\n",
              "std         96.653299\n",
              "min        350.000000\n",
              "25%        584.000000\n",
              "50%        652.000000\n",
              "75%        718.000000\n",
              "max        850.000000\n",
              "Name: CreditScore, dtype: float64"
            ]
          },
          "metadata": {},
          "execution_count": 38
        }
      ]
    },
    {
      "cell_type": "markdown",
      "source": [
        "Here we can better visualize our distribution and our quartiles"
      ],
      "metadata": {
        "id": "mS3P0tsG8c1l"
      }
    },
    {
      "cell_type": "code",
      "source": [
        "sns.boxplot(df_churn2[\"CreditScore\"])"
      ],
      "metadata": {
        "colab": {
          "base_uri": "https://localhost:8080/",
          "height": 462
        },
        "id": "jdHrKgbM3R3b",
        "outputId": "b1fd6ab1-daa9-446c-9681-ed7e24dd647e"
      },
      "execution_count": null,
      "outputs": [
        {
          "output_type": "execute_result",
          "data": {
            "text/plain": [
              "<matplotlib.axes._subplots.AxesSubplot at 0x7f70699a57d0>"
            ]
          },
          "metadata": {},
          "execution_count": 39
        },
        {
          "output_type": "display_data",
          "data": {
            "text/plain": [
              "<Figure size 1800x864 with 1 Axes>"
            ],
            "image/png": "[encoded data removed]"
          },
          "metadata": {}
        }
      ]
    },
    {
      "cell_type": "markdown",
      "source": [
        "We have a distribution very close to a normal curve."
      ],
      "metadata": {
        "id": "KTzIjKIZ9mQf"
      }
    },
    {
      "cell_type": "code",
      "source": [
        "sns.distplot(df_churn2['CreditScore'], bins= 15)"
      ],
      "metadata": {
        "colab": {
          "base_uri": "https://localhost:8080/",
          "height": 443
        },
        "id": "IHwU_3du3R7M",
        "outputId": "be487b30-90e9-4cb1-f3b8-8920369758bb"
      },
      "execution_count": null,
      "outputs": [
        {
          "output_type": "execute_result",
          "data": {
            "text/plain": [
              "<matplotlib.axes._subplots.AxesSubplot at 0x7f706990a190>"
            ]
          },
          "metadata": {},
          "execution_count": 40
        },
        {
          "output_type": "display_data",
          "data": {
            "text/plain": [
              "<Figure size 1800x864 with 1 Axes>"
            ],
            "image/png": "[encoded data removed]"
          },
          "metadata": {}
        }
      ]
    },
    {
      "cell_type": "markdown",
      "source": [
        "### 2.4.5 Geography"
      ],
      "metadata": {
        "id": "eLJPeHfn3Plu"
      }
    },
    {
      "cell_type": "markdown",
      "source": [
        "We do not have misspelled words"
      ],
      "metadata": {
        "id": "xJFwSQO8-uho"
      }
    },
    {
      "cell_type": "code",
      "source": [
        "df_churn2[\"Geography\"].unique()"
      ],
      "metadata": {
        "colab": {
          "base_uri": "https://localhost:8080/"
        },
        "id": "bHeWYUKd3A94",
        "outputId": "defae220-ddba-414e-a57d-c21d8bab4708"
      },
      "execution_count": null,
      "outputs": [
        {
          "output_type": "execute_result",
          "data": {
            "text/plain": [
              "array(['France', 'Spain', 'Germany'], dtype=object)"
            ]
          },
          "metadata": {},
          "execution_count": 41
        }
      ]
    },
    {
      "cell_type": "markdown",
      "source": [
        "### 2.4.6 Gender "
      ],
      "metadata": {
        "id": "6yTda7eu-x2k"
      }
    },
    {
      "cell_type": "markdown",
      "source": [
        "We do not have misspelled words"
      ],
      "metadata": {
        "id": "oiXDZ6g0_Icl"
      }
    },
    {
      "cell_type": "code",
      "source": [
        "df_churn2[\"Gender\"].unique()"
      ],
      "metadata": {
        "colab": {
          "base_uri": "https://localhost:8080/"
        },
        "id": "W7J-Cx5Q-FE4",
        "outputId": "f3be0984-d1e1-4737-f1c9-4562eabe2070"
      },
      "execution_count": null,
      "outputs": [
        {
          "output_type": "execute_result",
          "data": {
            "text/plain": [
              "array(['Female', 'Male'], dtype=object)"
            ]
          },
          "metadata": {},
          "execution_count": 42
        }
      ]
    },
    {
      "cell_type": "markdown",
      "source": [
        "### 2.4.7 Age "
      ],
      "metadata": {
        "id": "VINjDctGAIig"
      }
    },
    {
      "cell_type": "code",
      "source": [
        "df_churn2['Age'].unique()"
      ],
      "metadata": {
        "colab": {
          "base_uri": "https://localhost:8080/"
        },
        "id": "txIROPsP_Dbs",
        "outputId": "8a2a4bea-7808-41da-b34c-e8efc1c8169f"
      },
      "execution_count": null,
      "outputs": [
        {
          "output_type": "execute_result",
          "data": {
            "text/plain": [
              "array([42, 41, 39, 43, 44, 50, 29, 27, 31, 24, 34, 25, 35, 45, 58, 32, 38,\n",
              "       46, 36, 33, 40, 51, 61, 49, 37, 19, 66, 56, 26, 21, 55, 75, 22, 30,\n",
              "       28, 65, 48, 52, 57, 73, 47, 54, 72, 20, 67, 79, 62, 53, 80, 59, 68,\n",
              "       23, 60, 70, 63, 64, 18, 82, 69, 74, 71, 76, 77, 88, 85, 84, 78, 81,\n",
              "       92, 83])"
            ]
          },
          "metadata": {},
          "execution_count": 43
        }
      ]
    },
    {
      "cell_type": "markdown",
      "source": [
        "We have a good distribution of the data. A standard deviation of 10 and 75 percent of the data is between 32 and 44\n"
      ],
      "metadata": {
        "id": "yRaQH046Ax0-"
      }
    },
    {
      "cell_type": "code",
      "source": [
        "df_churn2['Age'].describe()"
      ],
      "metadata": {
        "colab": {
          "base_uri": "https://localhost:8080/"
        },
        "id": "CrDpqICeAMVx",
        "outputId": "4ec32868-c055-413b-d808-3d0c4c173e99"
      },
      "execution_count": null,
      "outputs": [
        {
          "output_type": "execute_result",
          "data": {
            "text/plain": [
              "count    10000.000000\n",
              "mean        38.921800\n",
              "std         10.487806\n",
              "min         18.000000\n",
              "25%         32.000000\n",
              "50%         37.000000\n",
              "75%         44.000000\n",
              "max         92.000000\n",
              "Name: Age, dtype: float64"
            ]
          },
          "metadata": {},
          "execution_count": 44
        }
      ]
    },
    {
      "cell_type": "markdown",
      "source": [
        "We can see that we have data from 60 years old, which can be outliers in our distribution."
      ],
      "metadata": {
        "id": "iNSPu7rYBdRt"
      }
    },
    {
      "cell_type": "code",
      "source": [
        "sns.boxplot(df_churn2[\"Age\"]);"
      ],
      "metadata": {
        "colab": {
          "base_uri": "https://localhost:8080/",
          "height": 445
        },
        "id": "Na5MrQvIAZum",
        "outputId": "31f8ea11-e718-4ded-a601-063022f5e2fe"
      },
      "execution_count": null,
      "outputs": [
        {
          "output_type": "display_data",
          "data": {
            "text/plain": [
              "<Figure size 1800x864 with 1 Axes>"
            ],
            "image/png": "[encoded data removed]"
          },
          "metadata": {}
        }
      ]
    },
    {
      "cell_type": "markdown",
      "source": [
        "We can see that our distribution is approaching a normal distribution and that data from 60 is pulling the tail to the right"
      ],
      "metadata": {
        "id": "WXkkdYNKBqzn"
      }
    },
    {
      "cell_type": "code",
      "source": [
        "sns.distplot(df_churn2['Age'], bins= 15)"
      ],
      "metadata": {
        "colab": {
          "base_uri": "https://localhost:8080/",
          "height": 447
        },
        "id": "LI9wJBNwA-35",
        "outputId": "740a30e0-9c37-4544-930c-c9c7d48de8c6"
      },
      "execution_count": null,
      "outputs": [
        {
          "output_type": "execute_result",
          "data": {
            "text/plain": [
              "<matplotlib.axes._subplots.AxesSubplot at 0x7f706c18ea90>"
            ]
          },
          "metadata": {},
          "execution_count": 47
        },
        {
          "output_type": "display_data",
          "data": {
            "text/plain": [
              "<Figure size 1800x864 with 1 Axes>"
            ],
            "image/png": "[encoded data removed]"
          },
          "metadata": {}
        }
      ]
    },
    {
      "cell_type": "code",
      "source": [
        ""
      ],
      "metadata": {
        "id": "TSBWmYpABkD1"
      },
      "execution_count": null,
      "outputs": []
    },
    {
      "cell_type": "markdown",
      "source": [
        "### 2.4.8 Tenure "
      ],
      "metadata": {
        "id": "WrHUylhPe69Z"
      }
    },
    {
      "cell_type": "code",
      "source": [
        "df_churn2['Tenure'].unique()"
      ],
      "metadata": {
        "colab": {
          "base_uri": "https://localhost:8080/"
        },
        "id": "GeT7LXxtfEEc",
        "outputId": "1ae69e3a-4502-4a78-b2f7-bd160be16710"
      },
      "execution_count": null,
      "outputs": [
        {
          "output_type": "execute_result",
          "data": {
            "text/plain": [
              "array([ 2,  1,  8,  7,  4,  6,  3, 10,  5,  9,  0])"
            ]
          },
          "metadata": {},
          "execution_count": 48
        }
      ]
    },
    {
      "cell_type": "markdown",
      "source": [
        "We do not have a problem with our data the standard deviation is low ,our data is distributed between 0 to 10 and the quartiles are ok."
      ],
      "metadata": {
        "id": "replrRhHgcZK"
      }
    },
    {
      "cell_type": "code",
      "source": [
        "df_churn2['Tenure'].describe()"
      ],
      "metadata": {
        "colab": {
          "base_uri": "https://localhost:8080/"
        },
        "id": "ntg-WbsCf4Ii",
        "outputId": "89ddf4b6-4d6f-45dd-951e-a001c240dfb0"
      },
      "execution_count": null,
      "outputs": [
        {
          "output_type": "execute_result",
          "data": {
            "text/plain": [
              "count    10000.000000\n",
              "mean         5.012800\n",
              "std          2.892174\n",
              "min          0.000000\n",
              "25%          3.000000\n",
              "50%          5.000000\n",
              "75%          7.000000\n",
              "max         10.000000\n",
              "Name: Tenure, dtype: float64"
            ]
          },
          "metadata": {},
          "execution_count": 49
        }
      ]
    },
    {
      "cell_type": "markdown",
      "source": [
        "We do not have outliers"
      ],
      "metadata": {
        "id": "j7o3AaKrhSzJ"
      }
    },
    {
      "cell_type": "code",
      "source": [
        "sns.boxplot(df_churn2['Tenure']);"
      ],
      "metadata": {
        "colab": {
          "base_uri": "https://localhost:8080/",
          "height": 445
        },
        "id": "0Kl2XQfRgg1x",
        "outputId": "d8587320-dadb-4bd3-edee-b92f8e3a5c32"
      },
      "execution_count": null,
      "outputs": [
        {
          "output_type": "display_data",
          "data": {
            "text/plain": [
              "<Figure size 1800x864 with 1 Axes>"
            ],
            "image/png": "[encoded data removed]"
          },
          "metadata": {}
        }
      ]
    },
    {
      "cell_type": "markdown",
      "source": [
        "We do not have a normal distribution."
      ],
      "metadata": {
        "id": "dPJyeu_xhVs7"
      }
    },
    {
      "cell_type": "code",
      "source": [
        "sns.distplot(df_churn2['Tenure'],bins=10);"
      ],
      "metadata": {
        "colab": {
          "base_uri": "https://localhost:8080/",
          "height": 428
        },
        "id": "sWdhDAmMhIWT",
        "outputId": "0d1d61f7-16b5-44e9-897a-822d92b4b038"
      },
      "execution_count": null,
      "outputs": [
        {
          "output_type": "display_data",
          "data": {
            "text/plain": [
              "<Figure size 1800x864 with 1 Axes>"
            ],
            "image/png": "[encoded data removed]"
          },
          "metadata": {}
        }
      ]
    },
    {
      "cell_type": "markdown",
      "source": [
        "### 2.4.9 Balance"
      ],
      "metadata": {
        "id": "mPJ0X1XUhk4W"
      }
    },
    {
      "cell_type": "code",
      "source": [
        "df_churn2[\"Balance\"].unique()"
      ],
      "metadata": {
        "colab": {
          "base_uri": "https://localhost:8080/"
        },
        "id": "-bwwUQrChn7U",
        "outputId": "6cfd49ec-c0f2-4030-c4a4-033d8b44fbc1"
      },
      "execution_count": null,
      "outputs": [
        {
          "output_type": "execute_result",
          "data": {
            "text/plain": [
              "array([     0.  ,  83807.86, 159660.8 , ...,  57369.61,  75075.31,\n",
              "       130142.79])"
            ]
          },
          "metadata": {},
          "execution_count": 52
        }
      ]
    },
    {
      "cell_type": "markdown",
      "source": [
        "We have customers with 0 on the account and 250898 max and most of the customers have between 0 to 127644\n"
      ],
      "metadata": {
        "id": "KWj-dhSmiUDw"
      }
    },
    {
      "cell_type": "code",
      "source": [
        "df_churn2['Balance'].describe()"
      ],
      "metadata": {
        "colab": {
          "base_uri": "https://localhost:8080/"
        },
        "id": "GOpr89LKigPe",
        "outputId": "0fe5b3a9-48e6-47ca-aa64-70bb2459ce3f"
      },
      "execution_count": null,
      "outputs": [
        {
          "output_type": "execute_result",
          "data": {
            "text/plain": [
              "count     10000.000000\n",
              "mean      76485.889288\n",
              "std       62397.405202\n",
              "min           0.000000\n",
              "25%           0.000000\n",
              "50%       97198.540000\n",
              "75%      127644.240000\n",
              "max      250898.090000\n",
              "Name: Balance, dtype: float64"
            ]
          },
          "metadata": {},
          "execution_count": 53
        }
      ]
    },
    {
      "cell_type": "markdown",
      "source": [
        "We do not have outliers"
      ],
      "metadata": {
        "id": "KvTUstrSiVQh"
      }
    },
    {
      "cell_type": "code",
      "source": [
        "sns.boxplot(df_churn2['Balance']);"
      ],
      "metadata": {
        "colab": {
          "base_uri": "https://localhost:8080/",
          "height": 445
        },
        "id": "dnzPwYPsi3fP",
        "outputId": "6b21550a-0591-43ec-a8e6-05ece5b6380f"
      },
      "execution_count": null,
      "outputs": [
        {
          "output_type": "display_data",
          "data": {
            "text/plain": [
              "<Figure size 1800x864 with 1 Axes>"
            ],
            "image/png": "[encoded data removed]"
          },
          "metadata": {}
        }
      ]
    },
    {
      "cell_type": "markdown",
      "source": [
        "\n",
        "We do not have a normal distribution , coustomers with 0 balance are skewing our data."
      ],
      "metadata": {
        "id": "_brGpJtaiVZP"
      }
    },
    {
      "cell_type": "code",
      "source": [
        "sns.distplot(df_churn2['Balance'],bins=20);"
      ],
      "metadata": {
        "colab": {
          "base_uri": "https://localhost:8080/",
          "height": 438
        },
        "id": "u4Q16mPcjC-5",
        "outputId": "7ed8018d-9fac-42ec-d7e8-2d571c2bc679"
      },
      "execution_count": null,
      "outputs": [
        {
          "output_type": "display_data",
          "data": {
            "text/plain": [
              "<Figure size 1800x864 with 1 Axes>"
            ],
            "image/png": "[encoded data removed]"
          },
          "metadata": {}
        }
      ]
    },
    {
      "cell_type": "markdown",
      "source": [
        "# Nova seção"
      ],
      "metadata": {
        "id": "Sc8tITvQiVcI"
      }
    },
    {
      "cell_type": "markdown",
      "source": [
        "# Nova seção"
      ],
      "metadata": {
        "id": "tMZOcRMPiVhd"
      }
    },
    {
      "cell_type": "markdown",
      "source": [
        "# Nova seção"
      ],
      "metadata": {
        "id": "LP-hM9ZEiVjg"
      }
    },
    {
      "cell_type": "code",
      "source": [
        ""
      ],
      "metadata": {
        "id": "RXtHRYydiTgf"
      },
      "execution_count": null,
      "outputs": []
    },
    {
      "cell_type": "markdown",
      "source": [
        "# Nova seção"
      ],
      "metadata": {
        "id": "O0WLJ4ZLhlz8"
      }
    },
    {
      "cell_type": "code",
      "source": [
        ""
      ],
      "metadata": {
        "id": "WCLT593XhbRn"
      },
      "execution_count": null,
      "outputs": []
    }
  ]
}